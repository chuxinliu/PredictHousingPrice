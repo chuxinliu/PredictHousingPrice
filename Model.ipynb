{
 "cells": [
  {
   "cell_type": "markdown",
   "metadata": {},
   "source": [
    "# Housing Sale Price Prediction Program\n",
    "- Load Libraires and Data\n",
    "- Data Cleaning\n",
    "- Modelling"
   ]
  },
  {
   "cell_type": "code",
   "execution_count": 3,
   "metadata": {},
   "outputs": [],
   "source": [
    "# data structure\n",
    "import numpy as np\n",
    "import pandas as pd\n",
    "\n",
    "# visualization\n",
    "import matplotlib.pyplot as plt \n",
    "import seaborn as sb \n",
    "\n",
    "# modelling\n",
    "from statsmodels.formula.api import ols\n",
    "import statsmodels.api as sm\n",
    "from sklearn import linear_model\n",
    "from sklearn.model_selection import train_test_split # data split\n",
    "from sklearn.linear_model import LinearRegression # OLS algorithm\n",
    "from sklearn.linear_model import Ridge # Ridge algorithm\n",
    "from sklearn.linear_model import Lasso # Lasso algorithm\n",
    "from sklearn.linear_model import BayesianRidge # Bayesian algorithm\n",
    "from sklearn.linear_model import ElasticNet # ElasticNet algorithm\n",
    "from sklearn.preprocessing import PolynomialFeatures\n",
    "from sklearn.metrics import explained_variance_score as evs # evaluation metric\n",
    "from sklearn.metrics import r2_score as r2 # evaluation metric\n",
    "from sklearn.ensemble import RandomForestRegressor"
   ]
  },
  {
   "cell_type": "code",
   "execution_count": 4,
   "metadata": {},
   "outputs": [],
   "source": [
    "df_train = pd.read_csv(\"Data Science ZExercise_TRAINING_CONFIDENTIAL1.csv\")\n",
    "df_test = pd.read_csv(\"Data Science ZExercise_TEST_CONFIDENTIAL2.csv\")"
   ]
  },
  {
   "cell_type": "markdown",
   "metadata": {},
   "source": [
    "## Data Cleaning"
   ]
  },
  {
   "cell_type": "code",
   "execution_count": 5,
   "metadata": {},
   "outputs": [],
   "source": [
    "# Sale Price: create a log value to see which one fits better\n",
    "df_train['ln_Sale']=np.log(df_train['SaleDollarCnt'])\n",
    "\n",
    "# Impute or compliment missing values\n",
    "# 1. Garage: replace missing with 0, and create a new dummy \"garage\" to indicate\n",
    "# 2. View: convert to dummies, including missing\n",
    "# 3. BG-level missing values: replace with mean of all BG \n",
    "        # (can be later impute with K-nearest neighboring BG)\n",
    "# 4. Zoning codes: convert to dummies\n",
    "df_train['Garage'] = 0\n",
    "df_train.loc[df_train['GarageSquareFeet'].isnull()==False,'Garage']=1\n",
    "df_train.loc[df_train['Garage']==0,'GarageSquareFeet']=0\n",
    "df_train=df_train.join(pd.get_dummies(df_train['ViewType'],dummy_na=True,prefix='view'))\n",
    "df_train.loc[df_train['BGMedHomeValue'].isnull()==True, 'BGMedHomeValue'] = df_train['BGMedHomeValue'].mean()\n",
    "df_train.loc[df_train['BGMedRent'].isnull()==True, 'BGMedRent'] = df_train['BGMedRent'].mean()\n",
    "df_train.loc[df_train['BGMedYearBuilt'].isnull()==True, 'BGMedYearBuilt'] = df_train['BGMedYearBuilt'].mean()\n",
    "df_train=df_train.join(pd.get_dummies(df_train['ZoneCodeCounty'],dummy_na=True,prefix='zoning'))"
   ]
  },
  {
   "cell_type": "markdown",
   "metadata": {},
   "source": [
    "## Modelling\n",
    "1. Data Preparation: pre-processing\n",
    "2. Linear models: OLS, Lasso, Ridge, EN\n",
    "3. Non-parametric: Random Forest Regression"
   ]
  },
  {
   "cell_type": "code",
   "execution_count": 197,
   "metadata": {},
   "outputs": [],
   "source": [
    "# prepare y variables\n",
    "y1 = ['SaleDollarCnt']\n",
    "y2 = ['ln_Sale']\n",
    "\n",
    "# prepare X variables\n",
    "X1 = ['BedroomCnt', 'BathroomCnt', 'StoryCnt', 'BuiltYear',\n",
    "          'FinishedSquareFeet','GarageSquareFeet','LotSizeSquareFeet', # Home Characteristics\n",
    "            'BGMedHomeValue', 'BGMedRent', 'BGMedYearBuilt',\n",
    "            'BGPctOwn', 'BGPctVacant', 'BGMedIncome',\n",
    "            'BGPctKids', 'BGMedAge'] # BG Characteristics\n",
    "\n",
    "# dummies\n",
    "X2 = ['Garage','view_78.0', 'view_79.0', 'view_82.0', 'view_241.0',\n",
    "            'view_244.0', 'view_246.0', 'view_247.0']\n",
    "\n",
    "# polynomials\n",
    "polyset = ['FinishedSquareFeet','GarageSquareFeet','LotSizeSquareFeet']\n",
    "X3=[]\n",
    "for i in polyset:\n",
    "    for j in range(2,6):\n",
    "        st = i + \"_\" + str(j)\n",
    "        st_std = st+\"std\"\n",
    "        df_train[st]=df_train[i]**j\n",
    "        df_train[st_std]=( df_train[st]-df_train[st].mean() )/df_train[st].std()\n",
    "        X3.append(st_std)\n",
    "\n",
    "# discontinuity\n",
    "#BGMedHomeValue==10**6, BGMedRent==1250, BGMedRent==2000, BGMedYearBuilt==1940, BGPctVacant = 0\n",
    "df_train['BGMedHomeValue10e6']=0\n",
    "df_train.loc[df_train['BGMedHomeValue']==10**6,'BGMedHomeValue10e6']=1\n",
    "df_train['BGMedRent1250']=0\n",
    "df_train.loc[df_train['BGMedRent']==1250,'BGMedRent1250']=1\n",
    "df_train['BGMedRent2000']=0\n",
    "df_train.loc[df_train['BGMedRent']==2000,'BGMedRent2000']=1\n",
    "df_train['BGMedYearBuilt1940']=0\n",
    "df_train.loc[df_train['BGMedYearBuilt']==1940,'BGMedYearBuilt1940']=1\n",
    "df_train['BGPctVacant0']=0\n",
    "df_train.loc[df_train['BGPctVacant']==0,'BGPctVacant0']=1\n",
    "X4=['BGMedHomeValue10e6','BGMedRent1250','BGMedRent2000','BGMedYearBuilt1940','BGPctVacant0']\n",
    "\n",
    "# interaction\n",
    "ita_set = ['BedroomCnt','BathroomCnt', 'StoryCnt', 'BuiltYear','FinishedSquareFeet','LotSizeSquareFeet',\n",
    "           'BGMedHomeValue', 'BGMedRent', 'BGMedYearBuilt','BGPctOwn','BGPctKids','BGMedAge']\n",
    "X5=[]\n",
    "df_ita = df_train['PropertyID']\n",
    "df_ita=df_ita.to_frame(name='PropertyID2')\n",
    "for i in range(len(ita_set)):\n",
    "    for j in range(i+1,len(ita_set)):\n",
    "        if i!=j:\n",
    "            st = ita_set[i] + \"X\" + ita_set[j]\n",
    "            st_std = st+\"std\"\n",
    "            df_temp=df_train[ita_set[i]]*df_train[ita_set[j]]\n",
    "            df_tempstd=(df_temp-df_temp.mean())/df_temp.std()\n",
    "            df_ita.join( df_tempstd.to_frame(name=st_std))\n",
    "            X5.append(st_std)\n",
    "\n",
    "# constant term for intercept\n",
    "df_train['const']=1"
   ]
  },
  {
   "cell_type": "code",
   "execution_count": 199,
   "metadata": {},
   "outputs": [],
   "source": [
    "# standardize all non-dummy variables in X1\n",
    "X1_df = df_train[X1]\n",
    "std_X1_df=(X1_df-X1_df.mean())/X1_df.std()\n",
    "# rename variable names\n",
    "names,names_std=std_X1_df.columns,[]\n",
    "for i in range(len(names)):\n",
    "    names_std.append(names[i]+'_std')\n",
    "std_X1_df.set_axis(names_std, axis=1, inplace=True)"
   ]
  },
  {
   "cell_type": "code",
   "execution_count": 205,
   "metadata": {},
   "outputs": [],
   "source": [
    "model_df = df_train[y1+y2+['const']+X2+X3+X4+X5+X_zoning].join(std_X1_df)\n",
    "X_var = model_df.drop(y1+y2,axis=1)\n",
    "y_var1,y_var2 = model_df[y1],model_df[y2]"
   ]
  },
  {
   "cell_type": "code",
   "execution_count": 206,
   "metadata": {},
   "outputs": [],
   "source": [
    "trainX,testX,trainy1,testy1=train_test_split(X_var,y_var1,test_size=0.3,random_state=42)"
   ]
  },
  {
   "cell_type": "code",
   "execution_count": 207,
   "metadata": {},
   "outputs": [
    {
     "data": {
      "text/plain": [
       "(8111, 285)"
      ]
     },
     "execution_count": 207,
     "metadata": {},
     "output_type": "execute_result"
    }
   ],
   "source": [
    "trainX.shape"
   ]
  },
  {
   "cell_type": "code",
   "execution_count": 208,
   "metadata": {},
   "outputs": [
    {
     "name": "stderr",
     "output_type": "stream",
     "text": [
      "/home/money94/.local/lib/python3.8/site-packages/sklearn/linear_model/_coordinate_descent.py:647: ConvergenceWarning: Objective did not converge. You might want to increase the number of iterations, check the scale of the features or consider increasing regularisation. Duality gap: 1.298e+13, tolerance: 1.570e+11\n",
      "  model = cd_fast.enet_coordinate_descent(\n",
      "/home/money94/.local/lib/python3.8/site-packages/sklearn/linear_model/_coordinate_descent.py:647: ConvergenceWarning: Objective did not converge. You might want to increase the number of iterations, check the scale of the features or consider increasing regularisation. Duality gap: 1.298e+13, tolerance: 1.570e+11\n",
      "  model = cd_fast.enet_coordinate_descent(\n"
     ]
    }
   ],
   "source": [
    "# Modelling - OLS, Lasso, Ridge, Elastic Net\n",
    "ols=LinearRegression().fit(trainX, trainy1)\n",
    "lasso = linear_model.LassoCV(max_iter=1000,random_state=42).fit(trainX, trainy1.values.ravel())\n",
    "ridge = linear_model.RidgeCV(alphas=[0.01,0.1,1,2,5,10,100]).fit(trainX, trainy1.values.ravel())\n",
    "elasticnet = linear_model.ElasticNetCV(l1_ratio=[.1,.2,.3,.4,.5,.6,.7,.8,.9,.95,.99,1],\n",
    "                                      max_iter=1000,random_state=42).fit(trainX, trainy1.values.ravel())"
   ]
  },
  {
   "cell_type": "code",
   "execution_count": 209,
   "metadata": {},
   "outputs": [
    {
     "name": "stdout",
     "output_type": "stream",
     "text": [
      "ols -12349.402365546879\n",
      "lasso 0.7901775843612568\n",
      "ridge 0.4710381961522013\n",
      "elastic net 0.7901775843612568\n",
      "OLS error mean: 2.7509005382978433 ; error median: 0.44961549112398486\n",
      "Lasso error mean: 0.17380746918487983 ; error median: 0.13274545563125598\n",
      "Ridge error mean: 0.1764495565652604 ; error median: 0.1282023292911462\n"
     ]
    }
   ],
   "source": [
    "# Error Comparison\n",
    "print('ols',ols.score(testX,testy1))\n",
    "print('lasso',lasso.score(testX,testy1))\n",
    "print('ridge',ridge.score(testX,testy1))\n",
    "print('elastic net',elasticnet.score(testX,testy1)) # same result as LASSO\n",
    "\n",
    "error_ols = abs(ols.predict(testX)-testy1.values.ravel())/testy1.values.ravel()\n",
    "print(\"OLS error mean:\",error_ols.mean(),\"; error median:\",np.median(error_ols))\n",
    "error_lasso = abs(lasso.predict(testX)-testy1.values.ravel())/testy1.values.ravel()\n",
    "print(\"Lasso error mean:\",error_lasso.mean(),\"; error median:\",np.median(error_lasso))\n",
    "error_ridge = abs(ridge.predict(testX)-testy1.values.ravel())/testy1.values.ravel()\n",
    "print(\"Ridge error mean:\",error_ridge.mean(),\"; error median:\",np.median(error_ridge))"
   ]
  },
  {
   "cell_type": "code",
   "execution_count": 210,
   "metadata": {},
   "outputs": [],
   "source": [
    "trainX,testX,trainy2,testy2=train_test_split(X_var,y_var2,test_size=0.3,random_state=42)"
   ]
  },
  {
   "cell_type": "code",
   "execution_count": 232,
   "metadata": {},
   "outputs": [],
   "source": [
    "# Modelling - OLS, Lasso, Ridge, Elastic Net\n",
    "ols=LinearRegression().fit(trainX, trainy2)\n",
    "lasso = linear_model.LassoCV(max_iter=10000,random_state=42).fit(trainX, trainy2.values.ravel())\n",
    "ridge = linear_model.RidgeCV(alphas=[0.01,0.1,1,2,5,10,100]).fit(trainX, trainy2.values.ravel())\n",
    "elasticnet = linear_model.ElasticNetCV(l1_ratio=[.1,.2,.3,.4,.5,.6,.7,.8,.9,.95,.99,1],\n",
    "                                      max_iter=10000,random_state=42).fit(trainX, trainy2.values.ravel())"
   ]
  },
  {
   "cell_type": "code",
   "execution_count": 212,
   "metadata": {},
   "outputs": [
    {
     "name": "stderr",
     "output_type": "stream",
     "text": [
      "<ipython-input-212-392e128b83b4>:8: RuntimeWarning: overflow encountered in power\n",
      "  error_ols = abs(e**ols.predict(testX)-e**testy2.values.ravel())/e**testy2.values.ravel()\n"
     ]
    },
    {
     "name": "stdout",
     "output_type": "stream",
     "text": [
      "ols -6279.859458412306\n",
      "lasso 0.861155760824634\n",
      "ridge 0.41355642585828367\n",
      "elastic net 0.861155760824634\n",
      "OLS error mean: inf ; error median: 0.44011490051807434\n",
      "Lasso error mean: 0.15272644029144553 ; error median: 0.11704712639929189\n",
      "Ridge error mean: 0.14967469060814773 ; error median: 0.11266683119495896\n"
     ]
    }
   ],
   "source": [
    "# Error Comparison\n",
    "print('ols',ols.score(testX,testy2))\n",
    "print('lasso',lasso.score(testX,testy2))\n",
    "print('ridge',ridge.score(testX,testy2))\n",
    "print('elastic net',elasticnet.score(testX,testy2)) # same result as LASSO\n",
    "\n",
    "from math import e\n",
    "error_ols = abs(e**ols.predict(testX)-e**testy2.values.ravel())/e**testy2.values.ravel()\n",
    "print(\"OLS error mean:\",error_ols.mean(),\"; error median:\",np.median(error_ols))\n",
    "error_lasso = abs(e**lasso.predict(testX)-e**testy2.values.ravel())/e**testy2.values.ravel()\n",
    "print(\"Lasso error mean:\",error_lasso.mean(),\"; error median:\",np.median(error_lasso))\n",
    "error_ridge = abs(e**ridge.predict(testX)-e**testy2.values.ravel())/e**testy2.values.ravel()\n",
    "print(\"Ridge error mean:\",error_ridge.mean(),\"; error median:\",np.median(error_ridge))"
   ]
  },
  {
   "cell_type": "code",
   "execution_count": null,
   "metadata": {},
   "outputs": [],
   "source": []
  },
  {
   "cell_type": "markdown",
   "metadata": {},
   "source": [
    "## Random Forest Regression"
   ]
  },
  {
   "cell_type": "code",
   "execution_count": 215,
   "metadata": {},
   "outputs": [
    {
     "name": "stderr",
     "output_type": "stream",
     "text": [
      "<ipython-input-215-106536a1814e>:9: DataConversionWarning: A column-vector y was passed when a 1d array was expected. Please change the shape of y to (n_samples,), for example using ravel().\n",
      "  regressor.fit(trainX, trainy2)\n"
     ]
    },
    {
     "data": {
      "text/plain": [
       "RandomForestRegressor(random_state=0)"
      ]
     },
     "execution_count": 215,
     "metadata": {},
     "output_type": "execute_result"
    }
   ],
   "source": [
    "# Fitting Random Forest Regression to the dataset\n",
    "# import the regressor\n",
    "  \n",
    " # create regressor object\n",
    "regressor = RandomForestRegressor(n_estimators = 100, random_state = 0)\n",
    "  \n",
    "# fit the regressor with x and y data\n",
    "regressor.fit(trainX, trainy2.values.ravel())  "
   ]
  },
  {
   "cell_type": "code",
   "execution_count": 216,
   "metadata": {},
   "outputs": [],
   "source": [
    "Y_pred = regressor.predict(testX)"
   ]
  },
  {
   "cell_type": "code",
   "execution_count": 229,
   "metadata": {},
   "outputs": [],
   "source": [
    "rf_error = abs(e**Y_pred - e**testy2.values.ravel())/e**testy2.values.ravel()"
   ]
  },
  {
   "cell_type": "code",
   "execution_count": 230,
   "metadata": {},
   "outputs": [
    {
     "data": {
      "text/plain": [
       "0.1396987915206984"
      ]
     },
     "execution_count": 230,
     "metadata": {},
     "output_type": "execute_result"
    }
   ],
   "source": [
    "rf_error.mean()"
   ]
  },
  {
   "cell_type": "code",
   "execution_count": 231,
   "metadata": {},
   "outputs": [
    {
     "data": {
      "text/plain": [
       "0.10196993750745657"
      ]
     },
     "execution_count": 231,
     "metadata": {},
     "output_type": "execute_result"
    }
   ],
   "source": [
    "np.median(rf_error)"
   ]
  },
  {
   "cell_type": "code",
   "execution_count": null,
   "metadata": {},
   "outputs": [],
   "source": []
  }
 ],
 "metadata": {
  "kernelspec": {
   "display_name": "Python 3",
   "language": "python",
   "name": "python3"
  },
  "language_info": {
   "codemirror_mode": {
    "name": "ipython",
    "version": 3
   },
   "file_extension": ".py",
   "mimetype": "text/x-python",
   "name": "python",
   "nbconvert_exporter": "python",
   "pygments_lexer": "ipython3",
   "version": "3.8.2"
  }
 },
 "nbformat": 4,
 "nbformat_minor": 4
}
